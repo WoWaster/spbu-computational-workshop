{
 "cells": [
  {
   "cell_type": "code",
   "id": "initial_id",
   "metadata": {
    "collapsed": true,
    "ExecuteTime": {
     "end_time": "2024-04-11T18:54:36.173458Z",
     "start_time": "2024-04-11T18:54:35.381511Z"
    }
   },
   "source": [
    "import numpy as np\n",
    "import pandas as pd\n",
    "from matplotlib import pyplot as plt\n",
    "from scipy import linalg\n",
    "\n",
    "from semester6 import eigenproblem\n",
    "from semester6.utils import print_matrix\n",
    "\n",
    "pd.options.display.float_format = '{:,.16f}'.format\n",
    "np.set_printoptions(precision=16, suppress=True)\n",
    "\n",
    "\n",
    "def answer(a: np.array, eps: float) -> None:\n",
    "    print(\"Исходная матрица:\", end=\"\")\n",
    "    print_matrix(a)\n",
    "\n",
    "    print(\"Степенной метод\")\n",
    "    (eigenvalue1, eigenvector1, count1) = eigenproblem.solve_partial(a,\n",
    "                                                                     eigenproblem.PartialEigenproblemMethod.PowerMethod)\n",
    "    print(\"Максимальное по модулю собственное число:\", eigenvalue1)\n",
    "    print(\"Собственный вектор:\", eigenvector1)\n",
    "    print(\"Количество итераций:\", count1)\n",
    "\n",
    "    print(\"Метод скалярных произведений\")\n",
    "    (eigenvalue2, eigenvector2, count2) = eigenproblem.solve_partial(a,\n",
    "                                                                     eigenproblem.PartialEigenproblemMethod.DotProductMethod)\n",
    "    print(\"Максимальное по модулю собственное число:\", eigenvalue2)\n",
    "    print(\"Собственный вектор:\", eigenvector2)\n",
    "    print(\"Количество итераций:\", count2)"
   ],
   "outputs": [],
   "execution_count": 1
  },
  {
   "metadata": {
    "ExecuteTime": {
     "end_time": "2024-04-11T18:54:36.191974Z",
     "start_time": "2024-04-11T18:54:36.174572Z"
    }
   },
   "cell_type": "code",
   "source": [
    "# This matrix is bad for this method -- it has two identical eigenvalues\n",
    "a1 = np.array([[1, 4, 2], [-1, 5, 1], [0, 0, 1]])\n",
    "answer(a1, 10e-6)"
   ],
   "id": "e93759822bd4c423",
   "outputs": [
    {
     "name": "stdout",
     "output_type": "stream",
     "text": [
      "Исходная матрица:      \n",
      " 1 4 2\n",
      "-1 5 1\n",
      " 0 0 1\n",
      "Степенной метод\n",
      "Максимальное по модулю собственное число: 3.0054682381910673\n",
      "Собственный вектор: [0.8939384535355582 0.448189738046795  0.                ]\n",
      "Количество итераций: 545\n",
      "Метод скалярных произведений\n",
      "Максимальное по модулю собственное число: 3.003860607917446\n",
      "Собственный вектор: [0.8937375823754332 0.4485901624531191 0.                ]\n",
      "Количество итераций: 389\n"
     ]
    }
   ],
   "execution_count": 2
  },
  {
   "metadata": {
    "ExecuteTime": {
     "end_time": "2024-04-11T18:54:36.216006Z",
     "start_time": "2024-04-11T18:54:36.193046Z"
    }
   },
   "cell_type": "code",
   "source": [
    "a1_prime = np.array([[1, 0, 0], [0, 3, 1], [0, 0, 3]])\n",
    "answer(a1_prime, 10e-6)"
   ],
   "id": "541d45b6eebda4bb",
   "outputs": [
    {
     "name": "stdout",
     "output_type": "stream",
     "text": [
      "Исходная матрица:     \n",
      "1 0 0\n",
      "0 3 1\n",
      "0 0 3\n",
      "Степенной метод\n",
      "Максимальное по модулю собственное число: 3.0054706147559305\n",
      "Собственный вектор: [0.                 0.9999850900557813 0.0054607386067196]\n",
      "Количество итераций: 548\n",
      "Метод скалярных произведений\n",
      "Максимальное по модулю собственное число: 3.0038585077433004\n",
      "Собственный вектор: [0.                 0.9999702811212071 0.0077095313978191]\n",
      "Количество итераций: 389\n"
     ]
    }
   ],
   "execution_count": 3
  },
  {
   "metadata": {
    "ExecuteTime": {
     "end_time": "2024-04-11T18:54:36.235169Z",
     "start_time": "2024-04-11T18:54:36.217637Z"
    }
   },
   "cell_type": "code",
   "source": [
    "a2 = linalg.hilbert(4)\n",
    "answer(a2, 10e-12)"
   ],
   "id": "8f9211e70926f398",
   "outputs": [
    {
     "name": "stdout",
     "output_type": "stream",
     "text": [
      "Исходная матрица:                                                                           \n",
      "1.0000000000000000 0.5000000000000000 0.3333333333333333 0.2500000000000000\n",
      "0.5000000000000000 0.3333333333333333 0.2500000000000000 0.2000000000000000\n",
      "0.3333333333333333 0.2500000000000000 0.2000000000000000 0.1666666666666667\n",
      "0.2500000000000000 0.2000000000000000 0.1666666666666667 0.1428571428571428\n",
      "Степенной метод\n",
      "Максимальное по модулю собственное число: 1.5002142783136247\n",
      "Собственный вектор: [0.7926051049996127 0.4519251489406496 0.3224191878966765\n",
      " 0.2521639834702259]\n",
      "Количество итераций: 5\n",
      "Метод скалярных произведений\n",
      "Максимальное по модулю собственное число: 1.5002142836075367\n",
      "Собственный вектор: [0.792602171227696  0.4519270163035744 0.3224217562286154\n",
      " 0.2521665743324167]\n",
      "Количество итераций: 5\n"
     ]
    }
   ],
   "execution_count": 4
  },
  {
   "metadata": {
    "ExecuteTime": {
     "end_time": "2024-04-11T18:54:38.047466Z",
     "start_time": "2024-04-11T18:54:36.235937Z"
    }
   },
   "cell_type": "code",
   "source": [
    "a3 = np.array([[1, 4, 2], [-1, 5, 1], [0, 0, 1]])\n",
    "\n",
    "iter_count = 100\n",
    "\n",
    "x = np.linspace(10e-6, 10e-12, num=iter_count, endpoint=False)\n",
    "power_method_count = []\n",
    "dot_product_method_count = []\n",
    "for i in range(iter_count):\n",
    "    (_, _, count1) = eigenproblem.solve_partial(a3, eigenproblem.PartialEigenproblemMethod.PowerMethod, eps=x[i])\n",
    "    power_method_count.append(count1)\n",
    "    (_, _, count2) = eigenproblem.solve_partial(a3, eigenproblem.PartialEigenproblemMethod.DotProductMethod, eps=x[i])\n",
    "    dot_product_method_count.append(count2)\n"
   ],
   "id": "cb46890a362aef2b",
   "outputs": [],
   "execution_count": 5
  },
  {
   "metadata": {
    "ExecuteTime": {
     "end_time": "2024-04-11T18:54:38.149731Z",
     "start_time": "2024-04-11T18:54:38.048472Z"
    }
   },
   "cell_type": "code",
   "source": [
    "power_method, = plt.plot(x, power_method_count, label=\"Power method\")\n",
    "dot_product_method, = plt.plot(x, dot_product_method_count, label=\"Dot product method\")\n",
    "plt.legend(handles=[power_method, dot_product_method], loc='best')\n",
    "plt.xlabel(\"Precision\")\n",
    "plt.ylabel(\"Iteration count\")\n",
    "plt.show()"
   ],
   "id": "405cc3547eb1ec09",
   "outputs": [
    {
     "data": {
      "text/plain": [
       "<Figure size 640x480 with 1 Axes>"
      ],
      "image/png": "[encoded data removed]"
     },
     "metadata": {},
     "output_type": "display_data"
    }
   ],
   "execution_count": 6
  }
 ],
 "metadata": {
  "kernelspec": {
   "display_name": "Python 3",
   "language": "python",
   "name": "python3"
  },
  "language_info": {
   "codemirror_mode": {
    "name": "ipython",
    "version": 2
   },
   "file_extension": ".py",
   "mimetype": "text/x-python",
   "name": "python",
   "nbconvert_exporter": "python",
   "pygments_lexer": "ipython2",
   "version": "2.7.6"
  }
 },
 "nbformat": 4,
 "nbformat_minor": 5
}
